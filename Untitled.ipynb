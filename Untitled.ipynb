{
 "cells": [
  {
   "cell_type": "code",
   "execution_count": 1,
   "id": "b88dd6d6",
   "metadata": {},
   "outputs": [
    {
     "name": "stderr",
     "output_type": "stream",
     "text": [
      "[nltk_data] Downloading package punkt to\n",
      "[nltk_data]     C:\\Users\\chari\\AppData\\Roaming\\nltk_data...\n",
      "[nltk_data]   Package punkt is already up-to-date!\n",
      "[nltk_data] Downloading package wordnet to\n",
      "[nltk_data]     C:\\Users\\chari\\AppData\\Roaming\\nltk_data...\n",
      "[nltk_data]   Package wordnet is already up-to-date!\n"
     ]
    },
    {
     "name": "stdout",
     "output_type": "stream",
     "text": [
      "Hi, I'm the NLTK chatbot. Type 'quit' to exit.\n",
      ">hii\n",
      "Hello\n",
      ">how are you\n",
      "I'm doing good. How about you?\n",
      ">what is your name\n",
      "I am a chatbot created using NLTK.\n",
      ">thank you\n",
      "None\n",
      ">quit\n",
      "Bye, take care. It was nice talking to you. See you soon :)\n"
     ]
    }
   ],
   "source": [
    "# Importing necessary libraries\n",
    "import nltk\n",
    "# Downloading required NLTK datasets\n",
    "nltk.download('punkt')\n",
    "nltk.download('wordnet')\n",
    "\n",
    "from nltk.chat.util import Chat, reflections\n",
    "\n",
    "# Defineing pairs of patterns and responses\n",
    "pairs = [\n",
    "    [\n",
    "        r\"my name is (.*)\",  # Pattern to match \"my name is [name]\"\n",
    "        [\"Hello %1, How are you today ?\",]  # Response with the captured name\n",
    "    ],\n",
    "    [\n",
    "        r\"hi|hey|hello\",  # Pattern to match greetings\n",
    "        [\"Hello\", \"Hey there\",]  # Possible responses to greetings\n",
    "    ],\n",
    "    [\n",
    "        r\"what is your name ?\",  # Pattern to ask the bot's name\n",
    "        [\"I am a chatbot created using NLTK.\",]  # Response with bot's name\n",
    "    ],\n",
    "    [\n",
    "        r\"how are you ?\",  # Pattern to ask how the bot is\n",
    "        [\"I'm doing good. How about you?\",]  # Response to the query\n",
    "    ],\n",
    "    [\n",
    "        r\"sorry (.*)\",  # Pattern to detect apologies\n",
    "        [\"It's alright, no problem.\",]  # Response to apologies\n",
    "    ],\n",
    "    [\n",
    "        r\"I am fine\",  # Pattern to indicate the user is fine\n",
    "        [\"Great to hear that. How can I help you?\",]  # Response to user's well-being\n",
    "    ],\n",
    "    [\n",
    "        r\"quit\",  # Pattern to end the conversation\n",
    "        [\"Bye, take care. It was nice talking to you. See you soon :)\"]  # Response when quitting\n",
    "    ],\n",
    "]\n",
    "\n",
    "# Defining a simple chatbot using NLTK's Chat utility\n",
    "def chatbot():\n",
    "    print(\"Hi, I'm the NLTK chatbot. Type 'quit' to exit.\")  # Greeting message\n",
    "    chat = Chat(pairs, reflections)  # Initialize the Chat object with patterns and reflections\n",
    "    chat.converse()  # Start the conversation\n",
    "\n",
    "# Run the chatbot\n",
    "if __name__ == \"__main__\":\n",
    "    chatbot()  # Call the chatbot function if the script is executed directly"
   ]
  },
  {
   "cell_type": "code",
   "execution_count": null,
   "id": "145eeb3f",
   "metadata": {},
   "outputs": [],
   "source": []
  }
 ],
 "metadata": {
  "kernelspec": {
   "display_name": "Python 3 (ipykernel)",
   "language": "python",
   "name": "python3"
  },
  "language_info": {
   "codemirror_mode": {
    "name": "ipython",
    "version": 3
   },
   "file_extension": ".py",
   "mimetype": "text/x-python",
   "name": "python",
   "nbconvert_exporter": "python",
   "pygments_lexer": "ipython3",
   "version": "3.9.13"
  }
 },
 "nbformat": 4,
 "nbformat_minor": 5
}
